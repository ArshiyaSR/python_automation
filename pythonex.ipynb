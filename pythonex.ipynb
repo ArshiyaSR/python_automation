{
 "cells": [
  {
   "cell_type": "code",
   "execution_count": 1,
   "metadata": {},
   "outputs": [
    {
     "name": "stdout",
     "output_type": "stream",
     "text": [
      "Welcome Jupyter Notebook\n"
     ]
    }
   ],
   "source": [
    "print(\"Welcome Jupyter Notebook\")"
   ]
  },
  {
   "cell_type": "markdown",
   "metadata": {},
   "source": [
    "Data.conjugate "
   ]
  },
  {
   "cell_type": "markdown",
   "metadata": {},
   "source": [
    "Python Data staructures\n",
    "Mutable DS\n",
    "List,Dictionary,Set\n",
    "\n",
    "Immutable DS\n",
    "Tuple,Number,String"
   ]
  },
  {
   "cell_type": "markdown",
   "metadata": {},
   "source": [
    "Object Oriented Programming\n",
    "\n",
    "Jython  written uisng JAVA\n",
    "Python interpreter written using C# - Iron Python"
   ]
  },
  {
   "cell_type": "code",
   "execution_count": 2,
   "metadata": {},
   "outputs": [
    {
     "name": "stdout",
     "output_type": "stream",
     "text": [
      "Overwriting carex.py\n"
     ]
    }
   ],
   "source": [
    "%%writefile carex.py\n",
    "class CarApp:\n",
    "    ''' Car Application for Customer'''\n",
    "\n",
    "    def __init__(self,name):\n",
    "        '''Initialisation of CarApp class'''\n",
    "        self.name = name #object variable\n",
    "        print(\"Car Name:\",name)\n",
    "\n",
    "        \n",
    "    def info(self):\n",
    "        '''Car Information Method'''\n",
    "        print(\"It`s Audi Car\",self.name)\n",
    "\n",
    "\n",
    "AudiCar = CarApp(\"Audi Car Name\")\n",
    "print(AudiCar.__doc__)"
   ]
  },
  {
   "cell_type": "code",
   "execution_count": 3,
   "metadata": {},
   "outputs": [
    {
     "name": "stdout",
     "output_type": "stream",
     "text": [
      "Car Name: Audi Car Name\n",
      " Car Application for Customer\n"
     ]
    }
   ],
   "source": [
    "run carex.py"
   ]
  },
  {
   "cell_type": "code",
   "execution_count": 2,
   "metadata": {},
   "outputs": [
    {
     "name": "stdout",
     "output_type": "stream",
     "text": [
      "My name is Rachana and Email is rachana.ganiga@se.com\n",
      "Mobile is 9964073327 and Address is Bangalore rachana.ganiga@gmail.com\n",
      "Account Number is 1234567890 and IFSC Code is HDFC1234 and PAN Number is AZBPG1110G\n",
      "another Mobile number is 9448409640 and address is Udupi, another mobile number is\n",
      "99986111353 and address is Udupi and IFSC Code is IFSD5678 and IP Address is 192.245.200.100\n"
     ]
    }
   ],
   "source": [
    "raw_data = '''My name is Rachana and Email is rachana.ganiga@se.com\n",
    "Mobile is 9964073327 and Address is Bangalore rachana.ganiga@gmail.com\n",
    "Account Number is 1234567890 and IFSC Code is HDFC1234 and PAN Number is AZBPG1110G\n",
    "another Mobile number is 9448409640 and address is Udupi, another mobile number is\n",
    "99986111353 and address is Udupi and IFSC Code is IFSD5678 and IP Address is 192.245.200.100'''\n",
    " \n",
    "with open('mypersonal.txt', 'w') as file:\n",
    "    file.write(raw_data) #write data to file\n",
    "   \n",
    "   \n",
    "with open('mypersonal.txt','r') as file:\n",
    "    data = file.read() #read data from file\n",
    "   \n",
    "print(data)"
   ]
  },
  {
   "cell_type": "code",
   "execution_count": 3,
   "metadata": {},
   "outputs": [
    {
     "name": "stdout",
     "output_type": "stream",
     "text": [
      "re.compile('[a-z]+', re.IGNORECASE)\n",
      "Match found welcome\n",
      "Match Start 0\n",
      "Match End 7\n",
      "Match Span (0, 7)\n"
     ]
    }
   ],
   "source": [
    "import re\n",
    " \n",
    "#help(re.match)\n",
    " \n",
    "pattern_object = re.compile('[a-z]+',re.IGNORECASE)\n",
    " \n",
    "print(pattern_object)\n",
    " \n",
    "data = \"welcome to regular expression pattern\"\n",
    " \n",
    "m = pattern_object.match(data)\n",
    "#m = pattern_object.search(data)\n",
    " \n",
    "if m:\n",
    "    print(\"Match found\",m.group())\n",
    "    print(\"Match Start\",m.start())\n",
    "    print(\"Match End\",m.end())\n",
    "    print(\"Match Span\",m.span())\n",
    "else:\n",
    "    print(\"Match Not found\")\n",
    " "
   ]
  },
  {
   "cell_type": "code",
   "execution_count": 4,
   "metadata": {},
   "outputs": [
    {
     "name": "stdout",
     "output_type": "stream",
     "text": [
      "['9964073327', '1234567890', '9448409640', '9998611135']\n",
      "['HDFC1234', 'IFSD5678']\n",
      "['AZBPG1110G']\n",
      "['rachana.ganiga@se.com', 'rachana.ganiga@gmail.com']\n",
      "['rachana.ganiga@se.com', 'rachana.ganiga@gmail.com']\n",
      "['192.245.200.100']\n"
     ]
    }
   ],
   "source": [
    "with open('mypersonal.txt','r') as file:\n",
    "    data = file.read() #read data from file\n",
    " \n",
    "    mobile_data = re.findall(r'\\d{10}', data)\n",
    "    print(mobile_data)\n",
    "    ifsc_data = re.findall(r'\\b[A-Z]{4}\\d{4}\\b', data)\n",
    "    print(ifsc_data)\n",
    "    pan_data = re.findall(r'[A-Z]{5}\\d{4}[A-Z]',data)\n",
    "    print(pan_data)\n",
    "    email_data = re.findall(r'\\b[A-Za-z0-9._%+-]+@[A-Za-z0-9.-]+\\.[A-Z|a-z]{2,}\\b',data)\n",
    "    print(email_data)\n",
    "    email_data1 = re.findall(r'\\b[\\w._]+@[\\w]+\\.[\\w]{2,}\\b',data)\n",
    "    print(email_data1)\n",
    "    ip_address = re.findall(r'\\d{0,3}\\.\\d{0,3}\\.\\d{0,3}\\.\\d{0,3}',data)\n",
    "    print(ip_address)"
   ]
  },
  {
   "cell_type": "code",
   "execution_count": 5,
   "metadata": {},
   "outputs": [
    {
     "name": "stdout",
     "output_type": "stream",
     "text": [
      "0    9964073327\n",
      "1    1234567890\n",
      "2    9448409640\n",
      "3    9998611135\n",
      "dtype: object\n"
     ]
    }
   ],
   "source": [
    "import pandas as pd\n",
    "\n",
    "mobile_data = pd.Series(mobile_data)\n",
    "print(mobile_data)"
   ]
  },
  {
   "cell_type": "code",
   "execution_count": 7,
   "metadata": {},
   "outputs": [
    {
     "name": "stdout",
     "output_type": "stream",
     "text": [
      "0    9964073327\n",
      "1    1234567890\n",
      "2    9448409640\n",
      "3    9998611135\n",
      "dtype: object\n",
      "{'Arshiya': '9964073327', 'test': '1234567890', 'testing': '9448409640', 'Sultana': '9998611135'}\n",
      "dict_keys(['Arshiya', 'test', 'testing', 'Sultana'])\n",
      "dict_values(['9964073327', '1234567890', '9448409640', '9998611135'])\n",
      "Arshiya    9964073327\n",
      "test       1234567890\n",
      "testing    9448409640\n",
      "Sultana    9998611135\n",
      "dtype: object\n",
      "{'Arshiya': '9964073327', 'test': '1234567890', 'testing': '9448409640', 'Sultana': '9998611135'}\n"
     ]
    }
   ],
   "source": [
    "import pandas as pd\n",
    "\n",
    "mobile_series = pd.Series(mobile_data,name='Mobile Number')\n",
    "#print(mobile_series)\n",
    "print(mobile_data)\n",
    "\n",
    "mobile_dict = {}\n",
    "\n",
    "mobile_dict['Arshiya'] = mobile_data[0]\n",
    "mobile_dict['test'] = mobile_data[1]\n",
    "mobile_dict['testing'] = mobile_data[2]\n",
    "mobile_dict['Sultana'] = mobile_data[3]\n",
    "\n",
    "print(mobile_dict)\n",
    "print(mobile_dict.keys())\n",
    "print(mobile_dict.values())\n",
    "\n",
    "\n",
    "mobile_series1 = pd.Series(mobile_dict)\n",
    "print(mobile_series1)\n",
    "print(mobile_dict)\n",
    "\n"
   ]
  },
  {
   "cell_type": "code",
   "execution_count": 8,
   "metadata": {},
   "outputs": [
    {
     "name": "stdout",
     "output_type": "stream",
     "text": [
      "      Name Mobile Number\n",
      "0  Arshiya    9964073327\n",
      "1     test    1234567890\n",
      "2  testing    9448409640\n",
      "3  Sultana    9998611135\n",
      "0    Arshiya\n",
      "1       test\n",
      "2    testing\n",
      "3    Sultana\n",
      "Name: Name, dtype: object\n",
      "0    9964073327\n",
      "1    1234567890\n",
      "2    9448409640\n",
      "3    9998611135\n",
      "Name: Mobile Number, dtype: object\n",
      "(4, 2)\n",
      "2\n",
      "      Name  Mobile Number\n",
      "0  Arshiya     9964073327\n",
      "1     test     1234567890\n",
      "2  testing     9448409640\n",
      "3  Sultana     9998611135\n"
     ]
    }
   ],
   "source": [
    "mobile_dataframe = pd.DataFrame(mobile_dict.items(),columns=['Name','Mobile Number'])\n",
    "print(mobile_dataframe)\n",
    "print(mobile_dataframe['Name'])\n",
    "print(mobile_dataframe['Mobile Number'])\n",
    "print(mobile_dataframe.shape)\n",
    "print(mobile_dataframe.ndim)\n",
    "\n",
    "mobile_dataframe.to_csv('mobile.csv',index=False) #write data to csv file\n",
    "mobile_dataframe = pd.read_csv('mobile.csv') #read data to csv file\n",
    "print(mobile_dataframe)\n"
   ]
  },
  {
   "cell_type": "code",
   "execution_count": null,
   "metadata": {},
   "outputs": [],
   "source": [
    "#!pip install --proxy http://gateway.schneider.zscaler.net/ pandas"
   ]
  }
 ],
 "metadata": {
  "kernelspec": {
   "display_name": "Python 3",
   "language": "python",
   "name": "python3"
  },
  "language_info": {
   "codemirror_mode": {
    "name": "ipython",
    "version": 3
   },
   "file_extension": ".py",
   "mimetype": "text/x-python",
   "name": "python",
   "nbconvert_exporter": "python",
   "pygments_lexer": "ipython3",
   "version": "3.11.6"
  }
 },
 "nbformat": 4,
 "nbformat_minor": 2
}
